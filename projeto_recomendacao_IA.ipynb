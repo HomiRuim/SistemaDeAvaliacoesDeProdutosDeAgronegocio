{
 "cells": [
  {
   "cell_type": "markdown",
   "metadata": {},
   "source": [
    "# Projeto 1 - Recomendação de Produtos Locais - Disciplina de Introdução a Inteligência Artificial\n",
    "Davi de Araujo Garcez Bueno - 211060586\n",
    "\n",
    "Ana Luiza Campos Souza - 211055441\n",
    "\n",
    "Célio Júnio de Freitas Eduardo - 211010350"
   ]
  },
  {
   "cell_type": "markdown",
   "id": "8a3623f1",
   "metadata": {},
   "source": [
    "# Lista de regiões (15 EMATER + extras)\n",
    "\n",
    "Essa célula define as regiões do DF que serão utilizadas no sistema.\n",
    "Incluímos as 15 regiões atendidas pela EMATER-DF e algumas regiões adicionais."
   ]
  },
  {
   "cell_type": "code",
   "execution_count": null,
   "metadata": {},
   "outputs": [],
   "source": [
    "import pandas as pd\n",
    "import os\n",
    "import datetime\n",
    "\n",
    "regioes = [\n",
    "    \"Alexandre Gusmão, DF\", \"Brazlândia, DF\", \"Ceilândia, DF\", \"Gama, DF\",\n",
    "    \"Jardim, DF\", \"PAD-DF, DF\", \"Paranoá, DF\", \"Pipiripau, DF\", \"Planaltina, DF\",\n",
    "    \"São Sebastião, DF\", \"Sobradinho, DF\", \"Tabatinga, DF\", \"Taquara, DF\", \"Vargem Bonita, DF\",\n",
    "    \"Santa Maria, DF\", \"Plano Piloto, DF\", \"Guará, DF\", \"Núcleo Bandeirante, DF\",\n",
    "    \"Recanto das Emas, DF\", \"Samambaia, DF\", \"Taguatinga, DF\"\n",
    "]\n",
    "df_regioes = pd.DataFrame(regioes, columns=[\"Região\"])\n"
   ]
  },
  {
   "cell_type": "markdown",
   "id": "e66db0c6",
   "metadata": {},
   "source": [
    "# Geocodificação das regiões\n",
    "Nessa célula utilizamos a biblioteca geopy para obter as coordenadas geográficas (latitude e longitude)\n",
    "de cada região, permitindo sua visualização em mapas e cálculos de distância.\n",
    "\n",
    "Então inicializamos o Nominatim com alguns ajustes, inicializando o geocodificador com um user-agent personalizado e usando o RateLimiter para evitar exceder limites de requisições da API.\n",
    "\n",
    "Então usamos a geocodificação em cada região, iterando e extraindo a latitude e longitude.\n"
   ]
  },
  {
   "cell_type": "code",
   "execution_count": 3,
   "metadata": {},
   "outputs": [],
   "source": [
    "# 1.2 – Geocodificação das regiões\n",
    "from geopy.geocoders import Nominatim\n",
    "from geopy.extra.rate_limiter import RateLimiter\n",
    "\n",
    "geolocator = Nominatim(user_agent=\"ia_projeto\")\n",
    "geocode = RateLimiter(geolocator.geocode, min_delay_seconds=1)\n",
    "\n",
    "df_regioes[[\"Lat\", \"Lon\"]] = df_regioes[\"Região\"].apply(\n",
    "    lambda loc: pd.Series(geocode(loc)[1]) if geocode(loc) else pd.Series([None, None])\n",
    ")\n",
    "\n",
    "# Salva o resultado\n",
    "os.makedirs(\"data\", exist_ok=True)\n",
    "df_regioes.to_csv(\"data/regioes_com_coordenadas.csv\", index=False)\n"
   ]
  },
  {
   "cell_type": "markdown",
   "id": "9519599b",
   "metadata": {},
   "source": [
    "Nessa célula, definimos as 17 associações em uma lista."
   ]
  },
  {
   "cell_type": "code",
   "execution_count": null,
   "metadata": {},
   "outputs": [],
   "source": [
    "# 1.3 – Cadastro das 17 associações\n",
    "associacoes = [\n",
    "    {\"Associação\": \"Afeca\", \"Regiões\": \"São Sebastião\"},\n",
    "    {\"Associação\": \"Agrifam\", \"Regiões\": \"Taguatinga, Gama, Santa Maria\"},\n",
    "    {\"Associação\": \"Amista\", \"Regiões\": \"Santa Maria\"},\n",
    "    {\"Associação\": \"Aspaf\", \"Regiões\": \"Guará, Núcleo Bandeirante, Plano Piloto\"},\n",
    "    {\"Associação\": \"AsSpag\", \"Regiões\": \"Brazlândia\"},\n",
    "    {\"Associação\": \"Asphor\", \"Regiões\": \"Gama, Santa Maria, Plano Piloto\"},\n",
    "    {\"Associação\": \"Asproc\", \"Regiões\": \"Ceilândia, Recanto das Emas, Samambaia, Paranoá, Planaltina\"},\n",
    "    {\"Associação\": \"Aspronte\", \"Regiões\": \"Ceilândia, Recanto das Emas\"},\n",
    "    {\"Associação\": \"Astraf\", \"Regiões\": \"Guará\"},\n",
    "    {\"Associação\": \"Coopbrasil\", \"Regiões\": \"Gama, Recanto das Emas, Samambaia, Núcleo Bandeirante, Planaltina, Brazlândia, Ceilândia\"},\n",
    "    {\"Associação\": \"CooperHorti\", \"Regiões\": \"Paranoá\"},\n",
    "    {\"Associação\": \"Prorural\", \"Regiões\": \"Plano Piloto, Paranoá\"},\n",
    "    {\"Associação\": \"Coopebraz\", \"Regiões\": \"Brazlândia, Taguatinga, Samambaia, Recanto das Emas\"},\n",
    "    {\"Associação\": \"Coopermista\", \"Regiões\": \"Planaltina\"},\n",
    "    {\"Associação\": \"Rede Terra\", \"Regiões\": \"Santa Maria\"},\n",
    "    {\"Associação\": \"Cootaquara\", \"Regiões\": \"Ceilândia\"},\n",
    "    {\"Associação\": \"Cooperbrasília\", \"Regiões\": \"Sobradinho, São Sebastião\"},\n",
    "]\n",
    "df_assoc = pd.DataFrame(associacoes)\n"
   ]
  },
  {
   "cell_type": "markdown",
   "id": "660bd48a",
   "metadata": {},
   "source": [
    "# Expandir por região\n",
    "\n",
    "Nessa célula, expandimos o DataFrame de associações para ter uma linha para cada combinação de associação e região, facilitando a visualização e o cálculo das distâncias.\n",
    "\n",
    "Então damos um Merge com as coordenadas para adicionar a latitude e longitude a cada associação-região."
   ]
  },
  {
   "cell_type": "code",
   "execution_count": 5,
   "metadata": {},
   "outputs": [],
   "source": [
    "# 1.4 – Expandir por região\n",
    "linhas_expandidas = []\n",
    "for _, row in df_assoc.iterrows():\n",
    "    regioes = [r.strip() + \", DF\" for r in row[\"Regiões\"].split(\",\")]\n",
    "    for reg in regioes:\n",
    "        linhas_expandidas.append({\n",
    "            \"Associação\": row[\"Associação\"],\n",
    "            \"Região\": reg\n",
    "        })\n",
    "\n",
    "df_assoc_exp = pd.DataFrame(linhas_expandidas)\n",
    "\n",
    "# Merge com coordenadas\n",
    "df_assoc_exp = df_assoc_exp.drop(columns=[\"Lat\", \"Lon\"], errors=\"ignore\")\n",
    "df_assoc_exp = df_assoc_exp.merge(df_regioes, on=\"Região\", how=\"left\")\n",
    "df_assoc_exp = df_assoc_exp.dropna(subset=[\"Lat\", \"Lon\"])\n",
    "df_assoc_exp.to_csv(\"data/associacoes_formatadas.csv\", index=False)\n"
   ]
  },
  {
   "cell_type": "markdown",
   "id": "c18dfb7f",
   "metadata": {},
   "source": [
    "# Cálculo de distância\n",
    "\n",
    "Esta célula implementa o cálculo de distância entre a localização do usuário e cada associação, permitindo recomendar as associações mais próximas.\n",
    "\n",
    "Então definimos a posição do usuário no Plano Piloto como exemplo e usamos uma função para calcular a distância em quilometros entre o usuário e cada associação.\n",
    "\n",
    "Aplicamos então a função para cada associação e depois ordenamos por distância para mostrar as 10 associações mais próximas.\n",
    "\n"
   ]
  },
  {
   "cell_type": "code",
   "execution_count": 7,
   "metadata": {},
   "outputs": [
    {
     "data": {
      "text/html": [
       "<div>\n",
       "<style scoped>\n",
       "    .dataframe tbody tr th:only-of-type {\n",
       "        vertical-align: middle;\n",
       "    }\n",
       "\n",
       "    .dataframe tbody tr th {\n",
       "        vertical-align: top;\n",
       "    }\n",
       "\n",
       "    .dataframe thead th {\n",
       "        text-align: right;\n",
       "    }\n",
       "</style>\n",
       "<table border=\"1\" class=\"dataframe\">\n",
       "  <thead>\n",
       "    <tr style=\"text-align: right;\">\n",
       "      <th></th>\n",
       "      <th>Associação</th>\n",
       "      <th>Região</th>\n",
       "      <th>Distância_km</th>\n",
       "    </tr>\n",
       "  </thead>\n",
       "  <tbody>\n",
       "    <tr>\n",
       "      <th>5</th>\n",
       "      <td>Aspaf</td>\n",
       "      <td>Guará, DF</td>\n",
       "      <td>10.593852</td>\n",
       "    </tr>\n",
       "    <tr>\n",
       "      <th>19</th>\n",
       "      <td>Astraf</td>\n",
       "      <td>Guará, DF</td>\n",
       "      <td>10.593852</td>\n",
       "    </tr>\n",
       "    <tr>\n",
       "      <th>27</th>\n",
       "      <td>CooperHorti</td>\n",
       "      <td>Paranoá, DF</td>\n",
       "      <td>11.227612</td>\n",
       "    </tr>\n",
       "    <tr>\n",
       "      <th>15</th>\n",
       "      <td>Asproc</td>\n",
       "      <td>Paranoá, DF</td>\n",
       "      <td>11.227612</td>\n",
       "    </tr>\n",
       "    <tr>\n",
       "      <th>29</th>\n",
       "      <td>Proural</td>\n",
       "      <td>Paranoá, DF</td>\n",
       "      <td>11.227612</td>\n",
       "    </tr>\n",
       "    <tr>\n",
       "      <th>23</th>\n",
       "      <td>Coopbrasil</td>\n",
       "      <td>Núcleo Bandeirante, DF</td>\n",
       "      <td>12.507099</td>\n",
       "    </tr>\n",
       "    <tr>\n",
       "      <th>6</th>\n",
       "      <td>Aspaf</td>\n",
       "      <td>Núcleo Bandeirante, DF</td>\n",
       "      <td>12.507099</td>\n",
       "    </tr>\n",
       "    <tr>\n",
       "      <th>7</th>\n",
       "      <td>Aspaf</td>\n",
       "      <td>Plano Piloto, DF</td>\n",
       "      <td>14.645694</td>\n",
       "    </tr>\n",
       "    <tr>\n",
       "      <th>11</th>\n",
       "      <td>Asphor</td>\n",
       "      <td>Plano Piloto, DF</td>\n",
       "      <td>14.645694</td>\n",
       "    </tr>\n",
       "    <tr>\n",
       "      <th>28</th>\n",
       "      <td>Proural</td>\n",
       "      <td>Plano Piloto, DF</td>\n",
       "      <td>14.645694</td>\n",
       "    </tr>\n",
       "  </tbody>\n",
       "</table>\n",
       "</div>"
      ],
      "text/plain": [
       "     Associação                  Região  Distância_km\n",
       "5         Aspaf               Guará, DF     10.593852\n",
       "19       Astraf               Guará, DF     10.593852\n",
       "27  CooperHorti             Paranoá, DF     11.227612\n",
       "15       Asproc             Paranoá, DF     11.227612\n",
       "29      Proural             Paranoá, DF     11.227612\n",
       "23   Coopbrasil  Núcleo Bandeirante, DF     12.507099\n",
       "6         Aspaf  Núcleo Bandeirante, DF     12.507099\n",
       "7         Aspaf        Plano Piloto, DF     14.645694\n",
       "11       Asphor        Plano Piloto, DF     14.645694\n",
       "28      Proural        Plano Piloto, DF     14.645694"
      ]
     },
     "execution_count": 7,
     "metadata": {},
     "output_type": "execute_result"
    }
   ],
   "source": [
    "# Etapa 3 – Calcular distância até o usuário\n",
    "from geopy.distance import geodesic\n",
    "\n",
    "user_location = (-15.7939, -47.8828)  # Exemplo: Plano Piloto\n",
    "\n",
    "def calcular_distancia(lat, lon):\n",
    "    return geodesic(user_location, (lat, lon)).km\n",
    "\n",
    "df_assoc_exp[\"Distância_km\"] = df_assoc_exp.apply(\n",
    "    lambda row: calcular_distancia(row[\"Lat\"], row[\"Lon\"]), axis=1\n",
    ")\n",
    "\n",
    "# Mostrar as mais próximas\n",
    "df_assoc_exp = df_assoc_exp.sort_values(\"Distância_km\")\n",
    "df_assoc_exp[[\"Associação\", \"Região\", \"Distância_km\"]].head(10)\n"
   ]
  }
 ],
 "metadata": {
  "kernelspec": {
   "display_name": "Python 3",
   "language": "python",
   "name": "python3"
  },
  "language_info": {
   "codemirror_mode": {
    "name": "ipython",
    "version": 3
   },
   "file_extension": ".py",
   "mimetype": "text/x-python",
   "name": "python",
   "nbconvert_exporter": "python",
   "pygments_lexer": "ipython3",
   "version": "3.13.1"
  }
 },
 "nbformat": 4,
 "nbformat_minor": 5
}
